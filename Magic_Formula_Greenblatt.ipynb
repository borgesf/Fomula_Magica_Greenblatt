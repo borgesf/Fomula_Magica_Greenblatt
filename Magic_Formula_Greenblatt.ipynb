{
  "nbformat": 4,
  "nbformat_minor": 0,
  "metadata": {
    "colab": {
      "name": "008_Magic_Formula",
      "provenance": [],
      "collapsed_sections": [],
      "authorship_tag": "ABX9TyOGlqsugwxYpGhr92gdbtA/",
      "include_colab_link": true
    },
    "kernelspec": {
      "name": "python3",
      "display_name": "Python 3"
    },
    "language_info": {
      "name": "python"
    }
  },
  "cells": [
    {
      "cell_type": "markdown",
      "metadata": {
        "id": "view-in-github",
        "colab_type": "text"
      },
      "source": [
        "<a href=\"https://colab.research.google.com/github/borgesf/Formula_Magica_Greenblatt/blob/main/Magic_Formula_Greenblatt.ipynb\" target=\"_parent\"><img src=\"https://colab.research.google.com/assets/colab-badge.svg\" alt=\"Open In Colab\"/></a>"
      ]
    },
    {
      "cell_type": "markdown",
      "metadata": {
        "id": "nAM3TDWBAlVf"
      },
      "source": [
        "# Fórmula Mágica - Joel Greenblat\n",
        "\n",
        "O objetivo desse notebook é gerar um *ranking* de ações da Bovespa, seguindo critérios de liquidez diária, ROIC e P/L. A fonte dos dados é o site [Fundamentus](https://www.fundamentus.com.br).\n",
        "\n",
        "\n",
        "### Autor: Filipe Borges (filipe.borges@ntnu.no)\n",
        "### [Fonte do material: Tutorial em Vídeo - Canal Código Quant](https://www.youtube.com/watch?v=e_ZRDG4F4ZA&list=PLCAhGm8nJ9CBn51o0x3j1p1LuMRqpeqCy&index=8)\n",
        "### Data da Versão: 14/06/2021"
      ]
    },
    {
      "cell_type": "markdown",
      "metadata": {
        "id": "ZhL5pa8RA6x3"
      },
      "source": [
        "## 1 - Importando Bibliotecas e Carregando Dados"
      ]
    },
    {
      "cell_type": "code",
      "metadata": {
        "id": "a-MMkVRuAcoV"
      },
      "source": [
        "import pandas as pd\n",
        "import requests\n",
        "\n",
        "url = 'http://www.fundamentus.com.br/resultado.php'\n",
        "header = {\n",
        "  \"User-Agent\": \"Mozilla/5.0 (Windows NT 10.0; Win64; x64) AppleWebKit/537.36 (KHTML, like Gecko) Chrome/84.0.4147.89 Safari/537.36\"  \n",
        " }\n",
        "\n",
        "r = requests.get(url, headers=header)\n",
        "df = pd.read_html(r.text,  decimal=',', thousands='.')[0]\n",
        "\n",
        "# Pre-processamento dos dados: troca ',' por '.' em alguns decimais, e converte strings para float\n",
        "\n",
        "for coluna in ['Div.Yield', 'Mrg Ebit', 'Mrg. Líq.', 'ROIC', 'ROE', 'Cresc. Rec.5a']:\n",
        "  df[coluna] = df[coluna].str.replace('.', '')\n",
        "  df[coluna] = df[coluna].str.replace(',', '.')\n",
        "  df[coluna] = df[coluna].str.rstrip('%').astype(float) / 100"
      ],
      "execution_count": 2,
      "outputs": []
    },
    {
      "cell_type": "markdown",
      "metadata": {
        "id": "DGg_4yk_FG9y"
      },
      "source": [
        "## Filtros de liquidez e \"qualidade\" - P/L e ROE"
      ]
    },
    {
      "cell_type": "code",
      "metadata": {
        "id": "xJibAzdxx26U",
        "colab": {
          "base_uri": "https://localhost:8080/"
        },
        "outputId": "cf251556-e7eb-4f43-ff17-e37c773a3d3e"
      },
      "source": [
        "# Filtro de Liquidez: > 1 Milhão/2 meses\n",
        "df = df[df['Liq.2meses'] > 1000000]\n",
        "\n",
        "# Rankeamento - P/L (>0) e ROE\n",
        "ranking = pd.DataFrame()\n",
        "ranking['position'] = range(1,151)\n",
        "ranking['P/L'] = df[df['P/L'] > 0].sort_values(by=['P/L'])['Papel'][:150].values\n",
        "ranking['ROE'] = df.sort_values(by=['ROE'], ascending=False)['Papel'][:150].values\n",
        "\n",
        "# Variaveis auxiliares para gerar ranking final - Imprime os 15 primeiros\n",
        "aux_a = ranking.pivot_table(columns='P/L', values='position')\n",
        "aux_b = ranking.pivot_table(columns='ROE', values='position')\n",
        "aux_full=pd.concat([aux_a,aux_b])\n",
        "Final_Rank = aux_full.dropna(axis=1).sum()\n",
        "Final_Rank.sort_values()[:15]"
      ],
      "execution_count": 3,
      "outputs": [
        {
          "output_type": "execute_result",
          "data": {
            "text/plain": [
              "MRFG3      7\n",
              "TASA3     13\n",
              "TASA4     13\n",
              "CSNA3     32\n",
              "TAEE3     40\n",
              "TAEE4     40\n",
              "TAEE11    40\n",
              "ETER3     48\n",
              "CYRE3     50\n",
              "LUPA3     53\n",
              "RAPT4     53\n",
              "PLPL3     56\n",
              "BEEF3     56\n",
              "TRPL4     57\n",
              "JBSS3     58\n",
              "dtype: int64"
            ]
          },
          "metadata": {
            "tags": []
          },
          "execution_count": 3
        }
      ]
    },
    {
      "cell_type": "markdown",
      "metadata": {
        "id": "19hsHfBv307E"
      },
      "source": [
        "## Filtros de liquidez e \"qualidade\" alternativo - EV/EBIT e ROIC (NÃO VALE PARA FINANCEIRAS E BANCOS!!!)"
      ]
    },
    {
      "cell_type": "code",
      "metadata": {
        "colab": {
          "base_uri": "https://localhost:8080/"
        },
        "id": "dd8bpTG_31i2",
        "outputId": "5a0000b4-22db-4e68-cbc7-2bf22a368a92"
      },
      "source": [
        "# Filtro de Liquidez: > 1 Milhão/2 meses\n",
        "df = df[df['Liq.2meses'] > 1000000]\n",
        "\n",
        "# Rankeamento - P/L (>0) e ROE\n",
        "ranking = pd.DataFrame()\n",
        "ranking['position'] = range(1,151)\n",
        "ranking['EV/EBIT'] = df[df['EV/EBIT'] > 0].sort_values(by=['EV/EBIT'])['Papel'][:150].values\n",
        "ranking['ROIC'] = df.sort_values(by=['ROIC'], ascending=False)['Papel'][:150].values\n",
        "\n",
        "# Variaveis auxiliares para gerar ranking final - Imprime os 15 primeiros\n",
        "aux_a = ranking.pivot_table(columns='EV/EBIT', values='position')\n",
        "aux_b = ranking.pivot_table(columns='ROIC', values='position')\n",
        "aux_full=pd.concat([aux_a,aux_b])\n",
        "Final_Rank = aux_full.dropna(axis=1).sum()\n",
        "Final_Rank.sort_values()[:15]"
      ],
      "execution_count": 4,
      "outputs": [
        {
          "output_type": "execute_result",
          "data": {
            "text/plain": [
              "PSSA3      6\n",
              "WIZS3     11\n",
              "CMIN3     20\n",
              "MRFG3     21\n",
              "PLPL3     22\n",
              "VALE3     24\n",
              "AURA33    24\n",
              "TASA3     27\n",
              "TASA4     28\n",
              "UNIP6     48\n",
              "BRKM5     51\n",
              "CSNA3     51\n",
              "BRKM3     52\n",
              "ALUP11    52\n",
              "BEEF3     52\n",
              "dtype: int64"
            ]
          },
          "metadata": {
            "tags": []
          },
          "execution_count": 4
        }
      ]
    }
  ]
}