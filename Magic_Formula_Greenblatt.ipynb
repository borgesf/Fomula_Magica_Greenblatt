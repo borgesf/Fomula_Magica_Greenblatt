{
  "nbformat": 4,
  "nbformat_minor": 0,
  "metadata": {
    "colab": {
      "name": "008_Magic_Formula",
      "provenance": [],
      "collapsed_sections": [],
      "authorship_tag": "ABX9TyMKMJi8zRz8MtKupjE/h+BV",
      "include_colab_link": true
    },
    "kernelspec": {
      "name": "python3",
      "display_name": "Python 3"
    },
    "language_info": {
      "name": "python"
    }
  },
  "cells": [
    {
      "cell_type": "markdown",
      "metadata": {
        "id": "view-in-github",
        "colab_type": "text"
      },
      "source": [
        "<a href=\"https://colab.research.google.com/github/borgesf/Fomula_Magica_Greenblatt/blob/main/Magic_Formula_Greenblatt.ipynb\" target=\"_parent\"><img src=\"https://colab.research.google.com/assets/colab-badge.svg\" alt=\"Open In Colab\"/></a>"
      ]
    },
    {
      "cell_type": "markdown",
      "metadata": {
        "id": "nAM3TDWBAlVf"
      },
      "source": [
        "# Fórmula Mágica - Joel Greenblat\n",
        "\n",
        "### Autor: Filipe Borges (f3l5p7@yahoo.com.br)\n",
        "### [Fonte](https://www.youtube.com/watch?v=e_ZRDG4F4ZA&list=PLCAhGm8nJ9CBn51o0x3j1p1LuMRqpeqCy&index=8)\n",
        "### Data da Versão: 23/04/2021\n",
        "\n",
        "\n",
        "\\\\\n",
        "\n",
        "Notebook para gerar um *ranking* de ações da Bovespa, seguinte critérios de liquidez diária, ROIC e P/L. Fonte dos dados: [Fundamentus](https://www.fundamentus.com.br)"
      ]
    },
    {
      "cell_type": "markdown",
      "metadata": {
        "id": "ZhL5pa8RA6x3"
      },
      "source": [
        "## 1 - Importando Bibliotecas e Carregando Dados"
      ]
    },
    {
      "cell_type": "code",
      "metadata": {
        "id": "a-MMkVRuAcoV"
      },
      "source": [
        "import pandas as pd\n",
        "import requests\n",
        "# import string\n",
        "\n",
        "# import warnings\n",
        "# warnings.filterwarnings('ignore')\n",
        "\n",
        "url = 'http://www.fundamentus.com.br/resultado.php'\n",
        "header = {\n",
        "  \"User-Agent\": \"Mozilla/5.0 (Windows NT 10.0; Win64; x64) AppleWebKit/537.36 (KHTML, like Gecko) Chrome/84.0.4147.89 Safari/537.36\"  \n",
        " }\n",
        "\n",
        "r = requests.get(url, headers=header)\n",
        "df = pd.read_html(r.text,  decimal=',', thousands='.')[0]\n",
        "\n",
        "# Pre-processamento dos dados: troca ',' por '.' em alguns decimais, e converte strings para float\n",
        "\n",
        "for coluna in ['Div.Yield', 'Mrg Ebit', 'Mrg. Líq.', 'ROIC', 'ROE', 'Cresc. Rec.5a']:\n",
        "  df[coluna] = df[coluna].str.replace('.', '')\n",
        "  df[coluna] = df[coluna].str.replace(',', '.')\n",
        "  df[coluna] = df[coluna].str.rstrip('%').astype(float) / 100"
      ],
      "execution_count": 2,
      "outputs": []
    },
    {
      "cell_type": "markdown",
      "metadata": {
        "id": "DGg_4yk_FG9y"
      },
      "source": [
        "## Filtros de liquidez e \"qualidade\" - P/L e ROE"
      ]
    },
    {
      "cell_type": "code",
      "metadata": {
        "colab": {
          "base_uri": "https://localhost:8080/"
        },
        "id": "xJibAzdxx26U",
        "outputId": "eda8e4a2-18eb-4ab1-a03e-6eeab2b68bc6"
      },
      "source": [
        "# Filtro de Liquidez: > 1 Milhão/2 meses\n",
        "df = df[df['Liq.2meses'] > 1000000]\n",
        "\n",
        "# Rankeamento - P/L (>0) e ROE\n",
        "ranking = pd.DataFrame()\n",
        "ranking['position'] = range(1,151)\n",
        "ranking['P/L'] = df[df['P/L'] > 0].sort_values(by=['P/L'])['Papel'][:150].values\n",
        "ranking['ROE'] = df.sort_values(by=['ROE'], ascending=False)['Papel'][:150].values\n",
        "\n",
        "# Variaveis auxiliares para gerar ranking final - Imprime os 15 primeiros\n",
        "aux_a = ranking.pivot_table(columns='P/L', values='position')\n",
        "aux_b = ranking.pivot_table(columns='ROE', values='position')\n",
        "aux_full=pd.concat([aux_a,aux_b])\n",
        "Final_Rank = aux_full.dropna(axis=1).sum()\n",
        "Final_Rank.sort_values()[:15]"
      ],
      "execution_count": 10,
      "outputs": [
        {
          "output_type": "execute_result",
          "data": {
            "text/plain": [
              "MRFG3     11\n",
              "TAEE3     39\n",
              "TAEE11    39\n",
              "TASA4     39\n",
              "TASA3     39\n",
              "TAEE4     39\n",
              "ETER3     40\n",
              "CYRE3     44\n",
              "WIZS3     45\n",
              "BEEF3     47\n",
              "SULA11    48\n",
              "GPCP3     49\n",
              "CESP6     50\n",
              "TRPL4     50\n",
              "BRDT3     51\n",
              "dtype: int64"
            ]
          },
          "metadata": {
            "tags": []
          },
          "execution_count": 10
        }
      ]
    },
    {
      "cell_type": "markdown",
      "metadata": {
        "id": "19hsHfBv307E"
      },
      "source": [
        "## Filtros de liquidez e \"qualidade\" alternativo - EV/EBIT e ROIC (NÃO VALE PARA FINANCEIRAS E BANCOS!!!)"
      ]
    },
    {
      "cell_type": "code",
      "metadata": {
        "colab": {
          "base_uri": "https://localhost:8080/"
        },
        "id": "dd8bpTG_31i2",
        "outputId": "832e8125-8930-4ef0-9c90-ffef1b0264be"
      },
      "source": [
        "# Filtro de Liquidez: > 1 Milhão/2 meses\n",
        "df = df[df['Liq.2meses'] > 1000000]\n",
        "\n",
        "# Rankeamento - P/L (>0) e ROE\n",
        "ranking = pd.DataFrame()\n",
        "ranking['position'] = range(1,151)\n",
        "ranking['EV/EBIT'] = df[df['EV/EBIT'] > 0].sort_values(by=['EV/EBIT'])['Papel'][:150].values\n",
        "ranking['ROIC'] = df.sort_values(by=['ROIC'], ascending=False)['Papel'][:150].values\n",
        "\n",
        "# Variaveis auxiliares para gerar ranking final - Imprime os 15 primeiros\n",
        "aux_a = ranking.pivot_table(columns='EV/EBIT', values='position')\n",
        "aux_b = ranking.pivot_table(columns='ROIC', values='position')\n",
        "aux_full=pd.concat([aux_a,aux_b])\n",
        "Final_Rank = aux_full.dropna(axis=1).sum()\n",
        "Final_Rank.sort_values()[:15]"
      ],
      "execution_count": 11,
      "outputs": [
        {
          "output_type": "execute_result",
          "data": {
            "text/plain": [
              "PSSA3      5\n",
              "WIZS3      6\n",
              "MRFG3     15\n",
              "PLPL3     20\n",
              "VALE3     26\n",
              "TIET11    35\n",
              "TASA4     40\n",
              "BEEF3     42\n",
              "TASA3     43\n",
              "TRPL4     45\n",
              "CMIN3     45\n",
              "ALUP11    48\n",
              "AURA33    51\n",
              "USIM5     58\n",
              "SAPR11    61\n",
              "dtype: int64"
            ]
          },
          "metadata": {
            "tags": []
          },
          "execution_count": 11
        }
      ]
    }
  ]
}