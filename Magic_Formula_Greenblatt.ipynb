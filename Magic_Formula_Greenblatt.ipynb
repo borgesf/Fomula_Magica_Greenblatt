{
  "nbformat": 4,
  "nbformat_minor": 0,
  "metadata": {
    "colab": {
      "name": "008_Magic_Formula",
      "provenance": [],
      "collapsed_sections": [],
      "authorship_tag": "ABX9TyMKMJi8zRz8MtKupjE/h+BV",
      "include_colab_link": true
    },
    "kernelspec": {
      "name": "python3",
      "display_name": "Python 3"
    },
    "language_info": {
      "name": "python"
    }
  },
  "cells": [
    {
      "cell_type": "markdown",
      "metadata": {
        "id": "view-in-github",
        "colab_type": "text"
      },
      "source": [
        "<a href=\"https://colab.research.google.com/github/borgesf/Fomula_Magica_Greenblatt/blob/main/Magic_Formula_Greenblatt.ipynb\" target=\"_parent\"><img src=\"https://colab.research.google.com/assets/colab-badge.svg\" alt=\"Open In Colab\"/></a>"
      ]
    },
    {
      "cell_type": "markdown",
      "metadata": {
        "id": "nAM3TDWBAlVf"
      },
      "source": [
        "# Fórmula Mágica - Joel Greenblat\n",
        "\n",
        "### Autor: Filipe Borges (f3l5p7@yahoo.com.br)\n",
        "### [Fonte](https://www.youtube.com/watch?v=e_ZRDG4F4ZA&list=PLCAhGm8nJ9CBn51o0x3j1p1LuMRqpeqCy&index=8)\n",
        "### Data da Versão: 23/04/2021\n",
        "\n",
        "\n",
        "\\\\\n",
        "\n",
        "Notebook para gerar um *ranking* de ações da Bovespa, seguinte critérios de liquidez diária, ROIC e P/L. Fonte dos dados: [Fundamentus](https://www.fundamentus.com.br)"
      ]
    },
    {
      "cell_type": "markdown",
      "metadata": {
        "id": "ZhL5pa8RA6x3"
      },
      "source": [
        "## 1 - Importando Bibliotecas e Carregando Dados"
      ]
    },
    {
      "cell_type": "code",
      "metadata": {
        "id": "a-MMkVRuAcoV"
      },
      "source": [
        "import pandas as pd\n",
        "import requests\n",
        "# import string\n",
        "\n",
        "# import warnings\n",
        "# warnings.filterwarnings('ignore')\n",
        "\n",
        "url = 'http://www.fundamentus.com.br/resultado.php'\n",
        "header = {\n",
        "  \"User-Agent\": \"Mozilla/5.0 (Windows NT 10.0; Win64; x64) AppleWebKit/537.36 (KHTML, like Gecko) Chrome/84.0.4147.89 Safari/537.36\"  \n",
        " }\n",
        "\n",
        "r = requests.get(url, headers=header)\n",
        "df = pd.read_html(r.text,  decimal=',', thousands='.')[0]\n",
        "\n",
        "# Pre-processamento dos dados: troca ',' por '.' em alguns decimais, e converte strings para float\n",
        "\n",
        "for coluna in ['Div.Yield', 'Mrg Ebit', 'Mrg. Líq.', 'ROIC', 'ROE', 'Cresc. Rec.5a']:\n",
        "  df[coluna] = df[coluna].str.replace('.', '')\n",
        "  df[coluna] = df[coluna].str.replace(',', '.')\n",
        "  df[coluna] = df[coluna].str.rstrip('%').astype(float) / 100"
      ],
      "execution_count": 2,
      "outputs": []
    },
    {
      "cell_type": "markdown",
      "metadata": {
        "id": "DGg_4yk_FG9y"
      },
      "source": [
        "## Filtros de liquidez e \"qualidade\" - P/L e ROE"
      ]
    },
    {
      "cell_type": "code",
      "metadata": {
        "id": "xJibAzdxx26U"
      },
      "source": [
        "# Filtro de Liquidez: > 1 Milhão/2 meses\n",
        "df = df[df['Liq.2meses'] > 1000000]\n",
        "\n",
        "# Rankeamento - P/L (>0) e ROE\n",
        "ranking = pd.DataFrame()\n",
        "ranking['position'] = range(1,151)\n",
        "ranking['P/L'] = df[df['P/L'] > 0].sort_values(by=['P/L'])['Papel'][:150].values\n",
        "ranking['ROE'] = df.sort_values(by=['ROE'], ascending=False)['Papel'][:150].values\n",
        "\n",
        "# Variaveis auxiliares para gerar ranking final - Imprime os 15 primeiros\n",
        "aux_a = ranking.pivot_table(columns='P/L', values='position')\n",
        "aux_b = ranking.pivot_table(columns='ROE', values='position')\n",
        "aux_full=pd.concat([aux_a,aux_b])\n",
        "Final_Rank = aux_full.dropna(axis=1).sum()\n",
        "Final_Rank.sort_values()[:15]"
      ],
      "execution_count": null,
      "outputs": []
    },
    {
      "cell_type": "markdown",
      "metadata": {
        "id": "19hsHfBv307E"
      },
      "source": [
        "## Filtros de liquidez e \"qualidade\" alternativos - EV/EBIT e ROIC (NÃO VALE PARA FINANCEIRAS E BANCOS!!!)"
      ]
    },
    {
      "cell_type": "code",
      "metadata": {
        "id": "dd8bpTG_31i2"
      },
      "source": [
        "# Filtro de Liquidez: > 1 Milhão/2 meses\n",
        "df = df[df['Liq.2meses'] > 1000000]\n",
        "\n",
        "# Rankeamento - EV/EBIT (>0) e ROIC\n",
        "ranking = pd.DataFrame()\n",
        "ranking['position'] = range(1,151)\n",
        "ranking['EV/EBIT'] = df[df['EV/EBIT'] > 0].sort_values(by=['EV/EBIT'])['Papel'][:150].values\n",
        "ranking['ROIC'] = df.sort_values(by=['ROIC'], ascending=False)['Papel'][:150].values\n",
        "\n",
        "# Variaveis auxiliares para gerar ranking final - Imprime os 15 primeiros\n",
        "aux_a = ranking.pivot_table(columns='EV/EBIT', values='position')\n",
        "aux_b = ranking.pivot_table(columns='ROIC', values='position')\n",
        "aux_full=pd.concat([aux_a,aux_b])\n",
        "Final_Rank = aux_full.dropna(axis=1).sum()\n",
        "Final_Rank.sort_values()[:15]"
      ],
      "execution_count": null,
      "outputs": []
    }
  ]
}
